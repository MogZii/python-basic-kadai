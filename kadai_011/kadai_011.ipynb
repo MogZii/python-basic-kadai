list = ["水","金","地","火","木","土","天","海","冥"]

# 配列の長さ
arr_len = len(list)
# 現在位置
current_point = 0
for key, value in enumerate(list, 1):
  print(f"{key} {value}")
  current_point += 1

#while用配列index
index = 0
#ループ終了カウンタ
end_point = 20
#現在値9から10へ
current_point += 1
while current_point < end_point:

  #配列の範囲内であればcurrent_pointとlist内要素を出力
  if index < len(list):
    print(f"{current_point} {list[index]}")
  
  #配列の範囲内であればcurrent_pointを出力
  else:
    print(f"{current_point}")

  current_point += 1
  index += 1
