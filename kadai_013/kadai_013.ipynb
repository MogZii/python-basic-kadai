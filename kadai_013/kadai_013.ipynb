# 税込計算
def calc_price(price, tax10):
  # 消費税
  tax = price * tax10
  # 税込み金額
  total = price + tax
  return total

price = 1200
tax = 0.1
print(calc_price(price, tax))
